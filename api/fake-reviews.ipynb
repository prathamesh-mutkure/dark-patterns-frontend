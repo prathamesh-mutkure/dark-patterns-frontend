{
 "cells": [
  {
   "cell_type": "code",
   "execution_count": 6,
   "id": "90c57ffb",
   "metadata": {},
   "outputs": [],
   "source": [
    "import tensorflow as tf \n",
    "from transformers import AutoTokenizer\n",
    "from transformers import TFAutoModelForSequenceClassification"
   ]
  },
  {
   "cell_type": "code",
   "execution_count": 7,
   "id": "04ba1067",
   "metadata": {},
   "outputs": [
    {
     "name": "stderr",
     "output_type": "stream",
     "text": [
      "All model checkpoint layers were used when initializing TFDistilBertForSequenceClassification.\n",
      "\n",
      "All the layers of TFDistilBertForSequenceClassification were initialized from the model checkpoint at C:\\Users\\pares\\Documents\\DPH\\file\\content\\transformer_model.\n",
      "If your task is similar to the task the model of the checkpoint was trained on, you can already use TFDistilBertForSequenceClassification for predictions without further training.\n"
     ]
    }
   ],
   "source": [
    "model = TFAutoModelForSequenceClassification.from_pretrained(r\"C:\\Users\\pares\\Documents\\DPH\\file\\content\\transformer_model\")"
   ]
  },
  {
   "cell_type": "code",
   "execution_count": 8,
   "id": "1f8f5f16",
   "metadata": {},
   "outputs": [],
   "source": [
    "model_name = 'distilbert-base-uncased' # or bert-base-cased\n",
    "tokenizer = AutoTokenizer.from_pretrained(model_name)\n",
    "model = TFAutoModelForSequenceClassification.from_pretrained(r\"C:\\Users\\pares\\Documents\\DPH\\file\\content\\transformer_model\")"
   ]
  },
  {
   "cell_type": "code",
   "execution_count": 11,
   "id": "9c978951",
   "metadata": {},
   "outputs": [],
   "source": [
    "text = r\"\"\"This purchase is not verified and has a rating of five. A good coming of age movie, Liam James' Duncan reminded me in a way of the innocence of Patrick Fugit in \"Almost Famous\", an awkward kid who doesn't know how to connect to others yet, to be confident and to be himself. He finds a mentor in a part time job at a water park who can help 14-year-old Duncan become the man he should be, a good person on his own merits. Subtle and honest acting, particularly from Liam James, whose slight disconnection and disaffection could remind any of us of being a young teen again.\"\"\""
   ]
  },
  {
   "cell_type": "code",
   "execution_count": 14,
   "id": "8b178920",
   "metadata": {},
   "outputs": [
    {
     "name": "stdout",
     "output_type": "stream",
     "text": [
      "tf.Tensor(0, shape=(), dtype=int64)\n"
     ]
    }
   ],
   "source": [
    "y = tokenizer(text, padding=\"max_length\", truncation=True)\n",
    "y['input_ids'] = tf.convert_to_tensor( [y['input_ids']] )\n",
    "if model_name == 'bert-base-cased':\n",
    "    y['token_type_ids'] = tf.convert_to_tensor( [y['token_type_ids']] )\n",
    "y['attention_mask'] = tf.convert_to_tensor( [y['attention_mask']] )\n",
    "\n",
    "label = model(y)\n",
    "probs = tf.nn.softmax(label.logits)\n",
    "print(tf.argmax(probs)[0])\n"
   ]
  },
  {
   "cell_type": "code",
   "execution_count": 22,
   "id": "1c90fcf9",
   "metadata": {},
   "outputs": [],
   "source": [
    "model_name = 'distilbert-base-uncased' # or bert-base-cased\n",
    "tokenizer = AutoTokenizer.from_pretrained(model_name)\n",
    "model = TFAutoModelForSequenceClassification.from_pretrained(r\"C:\\Users\\pares\\Documents\\DPH\\file\\content\\transformer_model\")\n",
    "def user_review(text):\n",
    "    res_dict = {0: 'real', 1: 'fake'}\n",
    "    y = tokenizer(text, padding=\"max_length\", truncation=True)\n",
    "    y['input_ids'] = tf.convert_to_tensor( [y['input_ids']] )\n",
    "    if model_name == 'bert-base-cased':\n",
    "        y['token_type_ids'] = tf.convert_to_tensor( [y['token_type_ids']] )\n",
    "    y['attention_mask'] = tf.convert_to_tensor( [y['attention_mask']] )\n",
    "\n",
    "    label = model(y)\n",
    "    probs = tf.nn.softmax(label.logits)\n",
    "    result = res_dict[tf.argmax(probs)[0].numpy()]\n",
    "    return result"
   ]
  },
  {
   "cell_type": "code",
   "execution_count": 23,
   "id": "0588c42b",
   "metadata": {},
   "outputs": [
    {
     "data": {
      "text/plain": [
       "'real'"
      ]
     },
     "execution_count": 23,
     "metadata": {},
     "output_type": "execute_result"
    }
   ],
   "source": [
    "user_review(text)"
   ]
  },
  {
   "cell_type": "code",
   "execution_count": null,
   "id": "e47b7525",
   "metadata": {},
   "outputs": [],
   "source": []
  }
 ],
 "metadata": {
  "kernelspec": {
   "display_name": "Python 3 (ipykernel)",
   "language": "python",
   "name": "python3"
  },
  "language_info": {
   "codemirror_mode": {
    "name": "ipython",
    "version": 3
   },
   "file_extension": ".py",
   "mimetype": "text/x-python",
   "name": "python",
   "nbconvert_exporter": "python",
   "pygments_lexer": "ipython3",
   "version": "3.8.18"
  }
 },
 "nbformat": 4,
 "nbformat_minor": 5
}
